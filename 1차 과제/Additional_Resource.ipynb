{
 "cells": [
  {
   "cell_type": "markdown",
   "metadata": {},
   "source": [
    "# ▪ 교차검증 및 의사결정나무 예제\n",
    "\n",
    "- 실습 때 교차검증 및 의사결정나무는 다루지 않았어서 예시 코드를 올려드립니다\n",
    "- 코딩에 익숙하지 않으신 분들은 과제시 참고하시면 되겠습니다 [(scikit-learn 공식문서)](https://scikit-learn.org/stable/modules/generated/sklearn.model_selection.cross_validate.html#sklearn.model_selection.cross_validate)"
   ]
  },
  {
   "cell_type": "markdown",
   "metadata": {},
   "source": [
    "### - Imports"
   ]
  },
  {
   "cell_type": "code",
   "execution_count": 41,
   "metadata": {
    "execution": {
     "iopub.execute_input": "2023-10-05T17:15:07.572984Z",
     "iopub.status.busy": "2023-10-05T17:15:07.572984Z",
     "iopub.status.idle": "2023-10-05T17:15:09.656063Z",
     "shell.execute_reply": "2023-10-05T17:15:09.654787Z",
     "shell.execute_reply.started": "2023-10-05T17:15:07.572984Z"
    }
   },
   "outputs": [],
   "source": [
    "import pandas as pd\n",
    "from sklearn.model_selection import cross_validate, KFold\n",
    "from sklearn.linear_model import LinearRegression\n",
    "import matplotlib.pyplot as plt"
   ]
  },
  {
   "cell_type": "markdown",
   "metadata": {},
   "source": [
    "### - Dataset"
   ]
  },
  {
   "cell_type": "code",
   "execution_count": 47,
   "metadata": {
    "execution": {
     "iopub.execute_input": "2023-10-05T17:15:09.660021Z",
     "iopub.status.busy": "2023-10-05T17:15:09.659026Z",
     "iopub.status.idle": "2023-10-05T17:15:09.681424Z",
     "shell.execute_reply": "2023-10-05T17:15:09.680679Z",
     "shell.execute_reply.started": "2023-10-05T17:15:09.660021Z"
    }
   },
   "outputs": [],
   "source": [
    "data = pd.read_csv('Boston_house.csv')"
   ]
  },
  {
   "cell_type": "code",
   "execution_count": 48,
   "metadata": {
    "execution": {
     "iopub.execute_input": "2023-10-05T17:15:09.682423Z",
     "iopub.status.busy": "2023-10-05T17:15:09.682423Z",
     "iopub.status.idle": "2023-10-05T17:15:09.696828Z",
     "shell.execute_reply": "2023-10-05T17:15:09.695796Z",
     "shell.execute_reply.started": "2023-10-05T17:15:09.682423Z"
    }
   },
   "outputs": [],
   "source": [
    "data = data.dropna()"
   ]
  },
  {
   "cell_type": "code",
   "execution_count": 50,
   "metadata": {
    "execution": {
     "iopub.execute_input": "2023-10-05T17:15:09.697396Z",
     "iopub.status.busy": "2023-10-05T17:15:09.697396Z",
     "iopub.status.idle": "2023-10-05T17:15:09.705400Z",
     "shell.execute_reply": "2023-10-05T17:15:09.705400Z",
     "shell.execute_reply.started": "2023-10-05T17:15:09.697396Z"
    }
   },
   "outputs": [],
   "source": [
    "X = data.drop('Target', axis=1)\n",
    "y = data['Target']"
   ]
  },
  {
   "cell_type": "code",
   "execution_count": 51,
   "metadata": {},
   "outputs": [
    {
     "data": {
      "text/html": [
       "<div>\n",
       "<style scoped>\n",
       "    .dataframe tbody tr th:only-of-type {\n",
       "        vertical-align: middle;\n",
       "    }\n",
       "\n",
       "    .dataframe tbody tr th {\n",
       "        vertical-align: top;\n",
       "    }\n",
       "\n",
       "    .dataframe thead th {\n",
       "        text-align: right;\n",
       "    }\n",
       "</style>\n",
       "<table border=\"1\" class=\"dataframe\">\n",
       "  <thead>\n",
       "    <tr style=\"text-align: right;\">\n",
       "      <th></th>\n",
       "      <th>AGE</th>\n",
       "      <th>B</th>\n",
       "      <th>RM</th>\n",
       "      <th>CRIM</th>\n",
       "      <th>DIS</th>\n",
       "      <th>INDUS</th>\n",
       "      <th>LSTAT</th>\n",
       "      <th>NOX</th>\n",
       "      <th>PTRATIO</th>\n",
       "      <th>RAD</th>\n",
       "      <th>ZN</th>\n",
       "      <th>TAX</th>\n",
       "      <th>CHAS</th>\n",
       "      <th>Target</th>\n",
       "    </tr>\n",
       "  </thead>\n",
       "  <tbody>\n",
       "    <tr>\n",
       "      <th>0</th>\n",
       "      <td>65.2</td>\n",
       "      <td>396.90</td>\n",
       "      <td>6.575</td>\n",
       "      <td>0.00632</td>\n",
       "      <td>4.0900</td>\n",
       "      <td>2.31</td>\n",
       "      <td>4.98</td>\n",
       "      <td>0.538</td>\n",
       "      <td>15.3</td>\n",
       "      <td>1</td>\n",
       "      <td>18.0</td>\n",
       "      <td>296</td>\n",
       "      <td>0</td>\n",
       "      <td>24.0</td>\n",
       "    </tr>\n",
       "    <tr>\n",
       "      <th>1</th>\n",
       "      <td>78.9</td>\n",
       "      <td>396.90</td>\n",
       "      <td>6.421</td>\n",
       "      <td>0.02731</td>\n",
       "      <td>4.9671</td>\n",
       "      <td>7.07</td>\n",
       "      <td>9.14</td>\n",
       "      <td>0.469</td>\n",
       "      <td>17.8</td>\n",
       "      <td>2</td>\n",
       "      <td>0.0</td>\n",
       "      <td>242</td>\n",
       "      <td>0</td>\n",
       "      <td>21.6</td>\n",
       "    </tr>\n",
       "    <tr>\n",
       "      <th>2</th>\n",
       "      <td>61.1</td>\n",
       "      <td>392.83</td>\n",
       "      <td>7.185</td>\n",
       "      <td>0.02729</td>\n",
       "      <td>4.9671</td>\n",
       "      <td>7.07</td>\n",
       "      <td>4.03</td>\n",
       "      <td>0.469</td>\n",
       "      <td>17.8</td>\n",
       "      <td>2</td>\n",
       "      <td>0.0</td>\n",
       "      <td>242</td>\n",
       "      <td>0</td>\n",
       "      <td>34.7</td>\n",
       "    </tr>\n",
       "    <tr>\n",
       "      <th>3</th>\n",
       "      <td>45.8</td>\n",
       "      <td>394.63</td>\n",
       "      <td>6.998</td>\n",
       "      <td>0.03237</td>\n",
       "      <td>6.0622</td>\n",
       "      <td>2.18</td>\n",
       "      <td>2.94</td>\n",
       "      <td>0.458</td>\n",
       "      <td>18.7</td>\n",
       "      <td>3</td>\n",
       "      <td>0.0</td>\n",
       "      <td>222</td>\n",
       "      <td>0</td>\n",
       "      <td>33.4</td>\n",
       "    </tr>\n",
       "    <tr>\n",
       "      <th>4</th>\n",
       "      <td>54.2</td>\n",
       "      <td>396.90</td>\n",
       "      <td>7.147</td>\n",
       "      <td>0.06905</td>\n",
       "      <td>6.0622</td>\n",
       "      <td>2.18</td>\n",
       "      <td>5.33</td>\n",
       "      <td>0.458</td>\n",
       "      <td>18.7</td>\n",
       "      <td>3</td>\n",
       "      <td>0.0</td>\n",
       "      <td>222</td>\n",
       "      <td>0</td>\n",
       "      <td>36.2</td>\n",
       "    </tr>\n",
       "    <tr>\n",
       "      <th>...</th>\n",
       "      <td>...</td>\n",
       "      <td>...</td>\n",
       "      <td>...</td>\n",
       "      <td>...</td>\n",
       "      <td>...</td>\n",
       "      <td>...</td>\n",
       "      <td>...</td>\n",
       "      <td>...</td>\n",
       "      <td>...</td>\n",
       "      <td>...</td>\n",
       "      <td>...</td>\n",
       "      <td>...</td>\n",
       "      <td>...</td>\n",
       "      <td>...</td>\n",
       "    </tr>\n",
       "    <tr>\n",
       "      <th>501</th>\n",
       "      <td>69.1</td>\n",
       "      <td>391.99</td>\n",
       "      <td>6.593</td>\n",
       "      <td>0.06263</td>\n",
       "      <td>2.4786</td>\n",
       "      <td>11.93</td>\n",
       "      <td>9.67</td>\n",
       "      <td>0.573</td>\n",
       "      <td>21.0</td>\n",
       "      <td>1</td>\n",
       "      <td>0.0</td>\n",
       "      <td>273</td>\n",
       "      <td>0</td>\n",
       "      <td>22.4</td>\n",
       "    </tr>\n",
       "    <tr>\n",
       "      <th>502</th>\n",
       "      <td>76.7</td>\n",
       "      <td>396.90</td>\n",
       "      <td>6.120</td>\n",
       "      <td>0.04527</td>\n",
       "      <td>2.2875</td>\n",
       "      <td>11.93</td>\n",
       "      <td>9.08</td>\n",
       "      <td>0.573</td>\n",
       "      <td>21.0</td>\n",
       "      <td>1</td>\n",
       "      <td>0.0</td>\n",
       "      <td>273</td>\n",
       "      <td>0</td>\n",
       "      <td>20.6</td>\n",
       "    </tr>\n",
       "    <tr>\n",
       "      <th>503</th>\n",
       "      <td>91.0</td>\n",
       "      <td>396.90</td>\n",
       "      <td>6.976</td>\n",
       "      <td>0.06076</td>\n",
       "      <td>2.1675</td>\n",
       "      <td>11.93</td>\n",
       "      <td>5.64</td>\n",
       "      <td>0.573</td>\n",
       "      <td>21.0</td>\n",
       "      <td>1</td>\n",
       "      <td>0.0</td>\n",
       "      <td>273</td>\n",
       "      <td>0</td>\n",
       "      <td>23.9</td>\n",
       "    </tr>\n",
       "    <tr>\n",
       "      <th>504</th>\n",
       "      <td>89.3</td>\n",
       "      <td>393.45</td>\n",
       "      <td>6.794</td>\n",
       "      <td>0.10959</td>\n",
       "      <td>2.3889</td>\n",
       "      <td>11.93</td>\n",
       "      <td>6.48</td>\n",
       "      <td>0.573</td>\n",
       "      <td>21.0</td>\n",
       "      <td>1</td>\n",
       "      <td>0.0</td>\n",
       "      <td>273</td>\n",
       "      <td>0</td>\n",
       "      <td>22.0</td>\n",
       "    </tr>\n",
       "    <tr>\n",
       "      <th>505</th>\n",
       "      <td>80.8</td>\n",
       "      <td>396.90</td>\n",
       "      <td>6.030</td>\n",
       "      <td>0.04741</td>\n",
       "      <td>2.5050</td>\n",
       "      <td>11.93</td>\n",
       "      <td>7.88</td>\n",
       "      <td>0.573</td>\n",
       "      <td>21.0</td>\n",
       "      <td>1</td>\n",
       "      <td>0.0</td>\n",
       "      <td>273</td>\n",
       "      <td>0</td>\n",
       "      <td>11.9</td>\n",
       "    </tr>\n",
       "  </tbody>\n",
       "</table>\n",
       "<p>506 rows × 14 columns</p>\n",
       "</div>"
      ],
      "text/plain": [
       "      AGE       B     RM     CRIM     DIS  INDUS  LSTAT    NOX  PTRATIO  RAD  \\\n",
       "0    65.2  396.90  6.575  0.00632  4.0900   2.31   4.98  0.538     15.3    1   \n",
       "1    78.9  396.90  6.421  0.02731  4.9671   7.07   9.14  0.469     17.8    2   \n",
       "2    61.1  392.83  7.185  0.02729  4.9671   7.07   4.03  0.469     17.8    2   \n",
       "3    45.8  394.63  6.998  0.03237  6.0622   2.18   2.94  0.458     18.7    3   \n",
       "4    54.2  396.90  7.147  0.06905  6.0622   2.18   5.33  0.458     18.7    3   \n",
       "..    ...     ...    ...      ...     ...    ...    ...    ...      ...  ...   \n",
       "501  69.1  391.99  6.593  0.06263  2.4786  11.93   9.67  0.573     21.0    1   \n",
       "502  76.7  396.90  6.120  0.04527  2.2875  11.93   9.08  0.573     21.0    1   \n",
       "503  91.0  396.90  6.976  0.06076  2.1675  11.93   5.64  0.573     21.0    1   \n",
       "504  89.3  393.45  6.794  0.10959  2.3889  11.93   6.48  0.573     21.0    1   \n",
       "505  80.8  396.90  6.030  0.04741  2.5050  11.93   7.88  0.573     21.0    1   \n",
       "\n",
       "       ZN  TAX  CHAS  Target  \n",
       "0    18.0  296     0    24.0  \n",
       "1     0.0  242     0    21.6  \n",
       "2     0.0  242     0    34.7  \n",
       "3     0.0  222     0    33.4  \n",
       "4     0.0  222     0    36.2  \n",
       "..    ...  ...   ...     ...  \n",
       "501   0.0  273     0    22.4  \n",
       "502   0.0  273     0    20.6  \n",
       "503   0.0  273     0    23.9  \n",
       "504   0.0  273     0    22.0  \n",
       "505   0.0  273     0    11.9  \n",
       "\n",
       "[506 rows x 14 columns]"
      ]
     },
     "execution_count": 51,
     "metadata": {},
     "output_type": "execute_result"
    }
   ],
   "source": [
    "data"
   ]
  },
  {
   "cell_type": "markdown",
   "metadata": {},
   "source": [
    "### - 10-Fold Splits"
   ]
  },
  {
   "cell_type": "code",
   "execution_count": 52,
   "metadata": {
    "execution": {
     "iopub.execute_input": "2023-10-05T17:15:09.709097Z",
     "iopub.status.busy": "2023-10-05T17:15:09.709097Z",
     "iopub.status.idle": "2023-10-05T17:15:09.719574Z",
     "shell.execute_reply": "2023-10-05T17:15:09.719574Z",
     "shell.execute_reply.started": "2023-10-05T17:15:09.709097Z"
    }
   },
   "outputs": [],
   "source": [
    "n_splits = 10\n",
    "kf = KFold(n_splits=n_splits, shuffle=False)"
   ]
  },
  {
   "cell_type": "code",
   "execution_count": 53,
   "metadata": {
    "execution": {
     "iopub.execute_input": "2023-10-05T17:15:09.721391Z",
     "iopub.status.busy": "2023-10-05T17:15:09.721391Z",
     "iopub.status.idle": "2023-10-05T17:15:09.733193Z",
     "shell.execute_reply": "2023-10-05T17:15:09.733193Z",
     "shell.execute_reply.started": "2023-10-05T17:15:09.721391Z"
    }
   },
   "outputs": [
    {
     "data": {
      "text/plain": [
       "KFold(n_splits=10, random_state=None, shuffle=False)"
      ]
     },
     "execution_count": 53,
     "metadata": {},
     "output_type": "execute_result"
    }
   ],
   "source": [
    "kf"
   ]
  },
  {
   "cell_type": "markdown",
   "metadata": {},
   "source": [
    "### - Cross Validation\n",
    "\n",
    "- `cross_validate()`의 사용법은 아래와 같음\n",
    "- 교차검증기법 참고: https://scikit-learn.org/stable/modules/classes.html#module-sklearn.model_selection\n",
    "- 평가지표 참고: https://scikit-learn.org/stable/modules/model_evaluation.html#scoring-parameter\n",
    "- [`cross_val_score()`](https://scikit-learn.org/stable/modules/generated/sklearn.model_selection.cross_val_score.html)을 사용한 교차검증 기법도 존재\n",
    "\n",
    "```python\n",
    "cross_validate(\n",
    "    estimator=<예측모델>,\n",
    "    X=<입력변수>,\n",
    "    y=<출력변수>,\n",
    "    cv=<교차검증기법>,  # KFold, StratifiedKFold, TimeSeriesSplit 등\n",
    "    scoring=<평가지표>,  # r2, neg_mean_absolute_error, neg_mean_squared_error 등\n",
    "    )\n",
    "```"
   ]
  },
  {
   "cell_type": "code",
   "execution_count": 54,
   "metadata": {
    "execution": {
     "iopub.execute_input": "2023-10-05T17:15:09.734730Z",
     "iopub.status.busy": "2023-10-05T17:15:09.734730Z",
     "iopub.status.idle": "2023-10-05T17:15:09.800526Z",
     "shell.execute_reply": "2023-10-05T17:15:09.800526Z",
     "shell.execute_reply.started": "2023-10-05T17:15:09.734730Z"
    }
   },
   "outputs": [
    {
     "data": {
      "text/plain": [
       "{'fit_time': array([0.00299191, 0.0029912 , 0.00199437, 0.0039897 , 0.00199747,\n",
       "        0.0009973 , 0.00299358, 0.00199389, 0.00199413, 0.00199294]),\n",
       " 'score_time': array([0.00199533, 0.00199437, 0.00299168, 0.00598335, 0.00199151,\n",
       "        0.00199461, 0.00199437, 0.00199485, 0.00199676, 0.00199461]),\n",
       " 'test_r2': array([ 0.73376082,  0.4730725 , -1.00631454,  0.64113984,  0.54766046,\n",
       "         0.73640292,  0.37828386, -0.12922703, -0.76843243,  0.4189435 ]),\n",
       " 'test_neg_mean_squared_error': array([  -9.28694671,  -14.15128316,  -14.07360615,  -35.20692433,\n",
       "         -31.88511666,  -19.83587796,   -9.94726918, -168.37537954,\n",
       "         -33.32974507,  -10.96041068]),\n",
       " 'test_neg_mean_absolute_error': array([-2.20686845, -2.89680909, -2.78673044, -4.59847835, -4.10986504,\n",
       "        -3.56469238, -2.66966723, -9.65637767, -5.02272517, -2.53725254])}"
      ]
     },
     "execution_count": 54,
     "metadata": {},
     "output_type": "execute_result"
    }
   ],
   "source": [
    "model = LinearRegression()\n",
    "metrics = ('r2', 'neg_mean_squared_error', 'neg_mean_absolute_error')\n",
    "cv_res = cross_validate(model, X, y, cv=kf, scoring=metrics)\n",
    "cv_res"
   ]
  },
  {
   "cell_type": "code",
   "execution_count": 55,
   "metadata": {
    "execution": {
     "iopub.execute_input": "2023-10-05T17:15:09.802378Z",
     "iopub.status.busy": "2023-10-05T17:15:09.801379Z",
     "iopub.status.idle": "2023-10-05T17:15:09.816754Z",
     "shell.execute_reply": "2023-10-05T17:15:09.815757Z",
     "shell.execute_reply.started": "2023-10-05T17:15:09.802378Z"
    }
   },
   "outputs": [],
   "source": [
    "cv_r2 = cv_res['test_r2']\n",
    "# MSE, MAE가 음수로 되어있기 때문에 양수로 바꿔줌\n",
    "cv_mse = -cv_res['test_neg_mean_squared_error']\n",
    "cv_mae = -cv_res['test_neg_mean_absolute_error']"
   ]
  },
  {
   "cell_type": "code",
   "execution_count": 56,
   "metadata": {
    "execution": {
     "iopub.execute_input": "2023-10-05T17:15:09.817779Z",
     "iopub.status.busy": "2023-10-05T17:15:09.817779Z",
     "iopub.status.idle": "2023-10-05T17:15:10.322612Z",
     "shell.execute_reply": "2023-10-05T17:15:10.322612Z",
     "shell.execute_reply.started": "2023-10-05T17:15:09.817779Z"
    }
   },
   "outputs": [
    {
     "name": "stdout",
     "output_type": "stream",
     "text": [
      "Average R2: 0.2025\n",
      "Average MSE: 34.7053\n",
      "Average MAE: 4.0049\n"
     ]
    },
    {
     "data": {
      "image/png": "[encoded data removed]",
      "text/plain": [
       "<Figure size 1800x400 with 3 Axes>"
      ]
     },
     "metadata": {},
     "output_type": "display_data"
    }
   ],
   "source": [
    "score_list = [cv_r2, cv_mse, cv_mae]\n",
    "metrics = ['R2', 'MSE', 'MAE']\n",
    "marker = 'o'\n",
    "fig, axs = plt.subplots(1, 3, figsize=(18, 4))\n",
    "\n",
    "for i, ax in enumerate(axs):\n",
    "    score = score_list[i]\n",
    "    avg_score = score.mean()\n",
    "    metric = metrics[i]\n",
    "    print(f'Average {metric}: {avg_score:.4f}')\n",
    "    ax.plot(score, marker=marker)\n",
    "    ax.axhline(avg_score, c='grey', ls=':', label='Average')\n",
    "    ax.set(title=metric, xlabel='10-Fold Cross Validation')\n",
    "    ax.legend();"
   ]
  },
  {
   "cell_type": "markdown",
   "metadata": {},
   "source": [
    "# ▪ 하이퍼파라미터 튜닝 예제\n",
    "\n",
    "- 교차검증과 하이퍼파라미터 튜닝"
   ]
  },
  {
   "cell_type": "markdown",
   "metadata": {},
   "source": [
    "## - Imports"
   ]
  },
  {
   "cell_type": "code",
   "execution_count": 12,
   "metadata": {
    "execution": {
     "iopub.execute_input": "2023-10-05T17:15:10.322612Z",
     "iopub.status.busy": "2023-10-05T17:15:10.322612Z",
     "iopub.status.idle": "2023-10-05T17:15:10.450247Z",
     "shell.execute_reply": "2023-10-05T17:15:10.450247Z",
     "shell.execute_reply.started": "2023-10-05T17:15:10.322612Z"
    }
   },
   "outputs": [],
   "source": [
    "import pandas as pd\n",
    "import numpy as np\n",
    "from sklearn.model_selection import cross_validate\n",
    "from sklearn.metrics import mean_squared_error\n",
    "from sklearn.linear_model import Ridge\n",
    "import matplotlib.pyplot as plt\n",
    "import seaborn as sns"
   ]
  },
  {
   "cell_type": "markdown",
   "metadata": {},
   "source": [
    "## - Dataset"
   ]
  },
  {
   "cell_type": "code",
   "execution_count": 57,
   "metadata": {
    "execution": {
     "iopub.execute_input": "2023-10-05T17:15:10.450247Z",
     "iopub.status.busy": "2023-10-05T17:15:10.450247Z",
     "iopub.status.idle": "2023-10-05T17:15:10.466865Z",
     "shell.execute_reply": "2023-10-05T17:15:10.466865Z",
     "shell.execute_reply.started": "2023-10-05T17:15:10.450247Z"
    }
   },
   "outputs": [],
   "source": [
    "data = pd.read_csv('Boston_house.csv')"
   ]
  },
  {
   "cell_type": "code",
   "execution_count": 58,
   "metadata": {
    "execution": {
     "iopub.execute_input": "2023-10-05T17:15:10.469266Z",
     "iopub.status.busy": "2023-10-05T17:15:10.468268Z",
     "iopub.status.idle": "2023-10-05T17:15:10.478581Z",
     "shell.execute_reply": "2023-10-05T17:15:10.478581Z",
     "shell.execute_reply.started": "2023-10-05T17:15:10.469266Z"
    }
   },
   "outputs": [],
   "source": [
    "data = data.dropna()"
   ]
  },
  {
   "cell_type": "code",
   "execution_count": 60,
   "metadata": {
    "execution": {
     "iopub.execute_input": "2023-10-05T17:15:10.478581Z",
     "iopub.status.busy": "2023-10-05T17:15:10.478581Z",
     "iopub.status.idle": "2023-10-05T17:15:10.486500Z",
     "shell.execute_reply": "2023-10-05T17:15:10.486500Z",
     "shell.execute_reply.started": "2023-10-05T17:15:10.478581Z"
    }
   },
   "outputs": [],
   "source": [
    "X = data.drop('Target', axis=1)\n",
    "y = data['Target']"
   ]
  },
  {
   "cell_type": "markdown",
   "metadata": {},
   "source": [
    "## - Hyperparameter Tuning\n",
    "\n",
    "- Ridge Regression 모델을 예시로 진행\n",
    "    - 하이퍼파라미터: alpha ($\\lambda$)\n",
    "- MSE를 기준으로 하이퍼파라미터 튜닝 진행\n",
    "- 10-Fold 교차검증"
   ]
  },
  {
   "cell_type": "code",
   "execution_count": 61,
   "metadata": {
    "execution": {
     "iopub.execute_input": "2023-10-05T17:15:10.486500Z",
     "iopub.status.busy": "2023-10-05T17:15:10.486500Z",
     "iopub.status.idle": "2023-10-05T17:15:10.664536Z",
     "shell.execute_reply": "2023-10-05T17:15:10.664536Z",
     "shell.execute_reply.started": "2023-10-05T17:15:10.486500Z"
    }
   },
   "outputs": [],
   "source": [
    "result_container = {}\n",
    "\n",
    "for alpha in [0.001, 0.01, 0.1, 1., 10]:\n",
    "    model = Ridge(alpha=alpha)\n",
    "    metric = 'neg_mean_squared_error' # MSE가 음수인 점을 주의\n",
    "    cv_res = cross_validate(model, X, y, cv=10, scoring=metric)  # cv=10은 KFold(n_splits=10)과 동일\n",
    "    cv_mse = -cv_res['test_score']\n",
    "    avg_mse = np.mean(cv_mse)\n",
    "    result_container[alpha] = avg_mse"
   ]
  },
  {
   "cell_type": "code",
   "execution_count": 62,
   "metadata": {
    "execution": {
     "iopub.execute_input": "2023-10-05T17:15:10.664536Z",
     "iopub.status.busy": "2023-10-05T17:15:10.664536Z",
     "iopub.status.idle": "2023-10-05T17:15:10.688637Z",
     "shell.execute_reply": "2023-10-05T17:15:10.688637Z",
     "shell.execute_reply.started": "2023-10-05T17:15:10.664536Z"
    }
   },
   "outputs": [
    {
     "data": {
      "text/plain": [
       "0.001     34.703681\n",
       "0.010     34.689702\n",
       "0.100     34.567059\n",
       "1.000     34.078246\n",
       "10.000    33.005818\n",
       "dtype: float64"
      ]
     },
     "execution_count": 62,
     "metadata": {},
     "output_type": "execute_result"
    }
   ],
   "source": [
    "hyperparam_tuning_res = pd.Series(result_container)\n",
    "hyperparam_tuning_res"
   ]
  },
  {
   "cell_type": "code",
   "execution_count": 63,
   "metadata": {
    "execution": {
     "iopub.execute_input": "2023-10-05T17:15:10.691525Z",
     "iopub.status.busy": "2023-10-05T17:15:10.690474Z",
     "iopub.status.idle": "2023-10-05T17:15:10.703847Z",
     "shell.execute_reply": "2023-10-05T17:15:10.703847Z",
     "shell.execute_reply.started": "2023-10-05T17:15:10.691525Z"
    }
   },
   "outputs": [],
   "source": [
    "best_scoring_idx = np.argmin(hyperparam_tuning_res)\n",
    "best_alpha = hyperparam_tuning_res.index[best_scoring_idx]"
   ]
  },
  {
   "cell_type": "code",
   "execution_count": 64,
   "metadata": {
    "execution": {
     "iopub.execute_input": "2023-10-05T17:15:10.705801Z",
     "iopub.status.busy": "2023-10-05T17:15:10.705801Z",
     "iopub.status.idle": "2023-10-05T17:15:10.850618Z",
     "shell.execute_reply": "2023-10-05T17:15:10.850618Z",
     "shell.execute_reply.started": "2023-10-05T17:15:10.705801Z"
    }
   },
   "outputs": [
    {
     "data": {
      "image/png": "[encoded data removed]",
      "text/plain": [
       "<Figure size 640x480 with 1 Axes>"
      ]
     },
     "metadata": {},
     "output_type": "display_data"
    }
   ],
   "source": [
    "plt.plot(hyperparam_tuning_res.values, marker='o')\n",
    "plt.xticks(ticks=np.arange(0, 5), labels=hyperparam_tuning_res.index)\n",
    "plt.xlabel('alpha')\n",
    "plt.ylabel('MSE');"
   ]
  },
  {
   "cell_type": "markdown",
   "metadata": {},
   "source": [
    "- Test 데이터셋 예측 코드 예시\n",
    "\n",
    "```python\n",
    ">>> # best_alpha = <하이퍼파라미터 결과>\n",
    ">>> final_model = Ridge(alpha=best_alpha)\n",
    ">>> pred = final_model.predict(X_test)\n",
    ">>> mse = mean_squared_error(y_test, pred)\n",
    "```"
   ]
  },
  {
   "cell_type": "markdown",
   "metadata": {},
   "source": [
    "## -[[DecisionTreeRegressor](https://scikit-learn.org/stable/modules/generated/sklearn.tree.DecisionTreeClassifier.html)] \n",
    "\n",
    "- **분류에 활용하고 싶으면 DecisionTreeClassifier를 사용**\n",
    "      \n",
    "**주요 하이퍼파라미터**  \n",
    "- **criterion** : 클래스 동질성을 측정하는 지표 설정, CART에서는 지니불순도(Gini Impurity)를 사용함. [{\"gini\", \"entorpy\", \"log_loss\"}, default = \"gini\"]\n",
    "- **max_depth** : 트리의 최대깊이를 설정. 값이 클수록 모델의 복잡도가 올라간다. [int, default = None]\n",
    "- **min_samples_split** : 자식노드를 분할하는데 필요한 최소 샘플의 수 [int or float, default = 2]\n",
    "- **min_samples_leaf** : leaf node에서 필요한 최소 샘풀수이며, 너무 적을 시 과적합 발생\n",
    "- **max_leaf_nodes** : 최대 leaf node 수 제한 [int, default=None]\n",
    "- **max_features** : 각 노드를 분리할 때 사용 할 최대 속성 수 [int, float or {“auto”, “sqrt”, “log2”}, default=None]"
   ]
  },
  {
   "cell_type": "code",
   "execution_count": 67,
   "metadata": {},
   "outputs": [],
   "source": [
    "data = pd.read_csv('Boston_house.csv')"
   ]
  },
  {
   "cell_type": "code",
   "execution_count": 69,
   "metadata": {},
   "outputs": [
    {
     "data": {
      "text/html": [
       "<div>\n",
       "<style scoped>\n",
       "    .dataframe tbody tr th:only-of-type {\n",
       "        vertical-align: middle;\n",
       "    }\n",
       "\n",
       "    .dataframe tbody tr th {\n",
       "        vertical-align: top;\n",
       "    }\n",
       "\n",
       "    .dataframe thead th {\n",
       "        text-align: right;\n",
       "    }\n",
       "</style>\n",
       "<table border=\"1\" class=\"dataframe\">\n",
       "  <thead>\n",
       "    <tr style=\"text-align: right;\">\n",
       "      <th></th>\n",
       "      <th>AGE</th>\n",
       "      <th>B</th>\n",
       "      <th>RM</th>\n",
       "      <th>CRIM</th>\n",
       "      <th>DIS</th>\n",
       "      <th>INDUS</th>\n",
       "      <th>LSTAT</th>\n",
       "      <th>NOX</th>\n",
       "      <th>PTRATIO</th>\n",
       "      <th>RAD</th>\n",
       "      <th>ZN</th>\n",
       "      <th>TAX</th>\n",
       "      <th>CHAS</th>\n",
       "      <th>Target</th>\n",
       "    </tr>\n",
       "  </thead>\n",
       "  <tbody>\n",
       "    <tr>\n",
       "      <th>0</th>\n",
       "      <td>65.2</td>\n",
       "      <td>396.90</td>\n",
       "      <td>6.575</td>\n",
       "      <td>0.00632</td>\n",
       "      <td>4.0900</td>\n",
       "      <td>2.31</td>\n",
       "      <td>4.98</td>\n",
       "      <td>0.538</td>\n",
       "      <td>15.3</td>\n",
       "      <td>1</td>\n",
       "      <td>18.0</td>\n",
       "      <td>296</td>\n",
       "      <td>0</td>\n",
       "      <td>24.0</td>\n",
       "    </tr>\n",
       "    <tr>\n",
       "      <th>1</th>\n",
       "      <td>78.9</td>\n",
       "      <td>396.90</td>\n",
       "      <td>6.421</td>\n",
       "      <td>0.02731</td>\n",
       "      <td>4.9671</td>\n",
       "      <td>7.07</td>\n",
       "      <td>9.14</td>\n",
       "      <td>0.469</td>\n",
       "      <td>17.8</td>\n",
       "      <td>2</td>\n",
       "      <td>0.0</td>\n",
       "      <td>242</td>\n",
       "      <td>0</td>\n",
       "      <td>21.6</td>\n",
       "    </tr>\n",
       "    <tr>\n",
       "      <th>2</th>\n",
       "      <td>61.1</td>\n",
       "      <td>392.83</td>\n",
       "      <td>7.185</td>\n",
       "      <td>0.02729</td>\n",
       "      <td>4.9671</td>\n",
       "      <td>7.07</td>\n",
       "      <td>4.03</td>\n",
       "      <td>0.469</td>\n",
       "      <td>17.8</td>\n",
       "      <td>2</td>\n",
       "      <td>0.0</td>\n",
       "      <td>242</td>\n",
       "      <td>0</td>\n",
       "      <td>34.7</td>\n",
       "    </tr>\n",
       "    <tr>\n",
       "      <th>3</th>\n",
       "      <td>45.8</td>\n",
       "      <td>394.63</td>\n",
       "      <td>6.998</td>\n",
       "      <td>0.03237</td>\n",
       "      <td>6.0622</td>\n",
       "      <td>2.18</td>\n",
       "      <td>2.94</td>\n",
       "      <td>0.458</td>\n",
       "      <td>18.7</td>\n",
       "      <td>3</td>\n",
       "      <td>0.0</td>\n",
       "      <td>222</td>\n",
       "      <td>0</td>\n",
       "      <td>33.4</td>\n",
       "    </tr>\n",
       "    <tr>\n",
       "      <th>4</th>\n",
       "      <td>54.2</td>\n",
       "      <td>396.90</td>\n",
       "      <td>7.147</td>\n",
       "      <td>0.06905</td>\n",
       "      <td>6.0622</td>\n",
       "      <td>2.18</td>\n",
       "      <td>5.33</td>\n",
       "      <td>0.458</td>\n",
       "      <td>18.7</td>\n",
       "      <td>3</td>\n",
       "      <td>0.0</td>\n",
       "      <td>222</td>\n",
       "      <td>0</td>\n",
       "      <td>36.2</td>\n",
       "    </tr>\n",
       "    <tr>\n",
       "      <th>...</th>\n",
       "      <td>...</td>\n",
       "      <td>...</td>\n",
       "      <td>...</td>\n",
       "      <td>...</td>\n",
       "      <td>...</td>\n",
       "      <td>...</td>\n",
       "      <td>...</td>\n",
       "      <td>...</td>\n",
       "      <td>...</td>\n",
       "      <td>...</td>\n",
       "      <td>...</td>\n",
       "      <td>...</td>\n",
       "      <td>...</td>\n",
       "      <td>...</td>\n",
       "    </tr>\n",
       "    <tr>\n",
       "      <th>501</th>\n",
       "      <td>69.1</td>\n",
       "      <td>391.99</td>\n",
       "      <td>6.593</td>\n",
       "      <td>0.06263</td>\n",
       "      <td>2.4786</td>\n",
       "      <td>11.93</td>\n",
       "      <td>9.67</td>\n",
       "      <td>0.573</td>\n",
       "      <td>21.0</td>\n",
       "      <td>1</td>\n",
       "      <td>0.0</td>\n",
       "      <td>273</td>\n",
       "      <td>0</td>\n",
       "      <td>22.4</td>\n",
       "    </tr>\n",
       "    <tr>\n",
       "      <th>502</th>\n",
       "      <td>76.7</td>\n",
       "      <td>396.90</td>\n",
       "      <td>6.120</td>\n",
       "      <td>0.04527</td>\n",
       "      <td>2.2875</td>\n",
       "      <td>11.93</td>\n",
       "      <td>9.08</td>\n",
       "      <td>0.573</td>\n",
       "      <td>21.0</td>\n",
       "      <td>1</td>\n",
       "      <td>0.0</td>\n",
       "      <td>273</td>\n",
       "      <td>0</td>\n",
       "      <td>20.6</td>\n",
       "    </tr>\n",
       "    <tr>\n",
       "      <th>503</th>\n",
       "      <td>91.0</td>\n",
       "      <td>396.90</td>\n",
       "      <td>6.976</td>\n",
       "      <td>0.06076</td>\n",
       "      <td>2.1675</td>\n",
       "      <td>11.93</td>\n",
       "      <td>5.64</td>\n",
       "      <td>0.573</td>\n",
       "      <td>21.0</td>\n",
       "      <td>1</td>\n",
       "      <td>0.0</td>\n",
       "      <td>273</td>\n",
       "      <td>0</td>\n",
       "      <td>23.9</td>\n",
       "    </tr>\n",
       "    <tr>\n",
       "      <th>504</th>\n",
       "      <td>89.3</td>\n",
       "      <td>393.45</td>\n",
       "      <td>6.794</td>\n",
       "      <td>0.10959</td>\n",
       "      <td>2.3889</td>\n",
       "      <td>11.93</td>\n",
       "      <td>6.48</td>\n",
       "      <td>0.573</td>\n",
       "      <td>21.0</td>\n",
       "      <td>1</td>\n",
       "      <td>0.0</td>\n",
       "      <td>273</td>\n",
       "      <td>0</td>\n",
       "      <td>22.0</td>\n",
       "    </tr>\n",
       "    <tr>\n",
       "      <th>505</th>\n",
       "      <td>80.8</td>\n",
       "      <td>396.90</td>\n",
       "      <td>6.030</td>\n",
       "      <td>0.04741</td>\n",
       "      <td>2.5050</td>\n",
       "      <td>11.93</td>\n",
       "      <td>7.88</td>\n",
       "      <td>0.573</td>\n",
       "      <td>21.0</td>\n",
       "      <td>1</td>\n",
       "      <td>0.0</td>\n",
       "      <td>273</td>\n",
       "      <td>0</td>\n",
       "      <td>11.9</td>\n",
       "    </tr>\n",
       "  </tbody>\n",
       "</table>\n",
       "<p>506 rows × 14 columns</p>\n",
       "</div>"
      ],
      "text/plain": [
       "      AGE       B     RM     CRIM     DIS  INDUS  LSTAT    NOX  PTRATIO  RAD  \\\n",
       "0    65.2  396.90  6.575  0.00632  4.0900   2.31   4.98  0.538     15.3    1   \n",
       "1    78.9  396.90  6.421  0.02731  4.9671   7.07   9.14  0.469     17.8    2   \n",
       "2    61.1  392.83  7.185  0.02729  4.9671   7.07   4.03  0.469     17.8    2   \n",
       "3    45.8  394.63  6.998  0.03237  6.0622   2.18   2.94  0.458     18.7    3   \n",
       "4    54.2  396.90  7.147  0.06905  6.0622   2.18   5.33  0.458     18.7    3   \n",
       "..    ...     ...    ...      ...     ...    ...    ...    ...      ...  ...   \n",
       "501  69.1  391.99  6.593  0.06263  2.4786  11.93   9.67  0.573     21.0    1   \n",
       "502  76.7  396.90  6.120  0.04527  2.2875  11.93   9.08  0.573     21.0    1   \n",
       "503  91.0  396.90  6.976  0.06076  2.1675  11.93   5.64  0.573     21.0    1   \n",
       "504  89.3  393.45  6.794  0.10959  2.3889  11.93   6.48  0.573     21.0    1   \n",
       "505  80.8  396.90  6.030  0.04741  2.5050  11.93   7.88  0.573     21.0    1   \n",
       "\n",
       "       ZN  TAX  CHAS  Target  \n",
       "0    18.0  296     0    24.0  \n",
       "1     0.0  242     0    21.6  \n",
       "2     0.0  242     0    34.7  \n",
       "3     0.0  222     0    33.4  \n",
       "4     0.0  222     0    36.2  \n",
       "..    ...  ...   ...     ...  \n",
       "501   0.0  273     0    22.4  \n",
       "502   0.0  273     0    20.6  \n",
       "503   0.0  273     0    23.9  \n",
       "504   0.0  273     0    22.0  \n",
       "505   0.0  273     0    11.9  \n",
       "\n",
       "[506 rows x 14 columns]"
      ]
     },
     "execution_count": 69,
     "metadata": {},
     "output_type": "execute_result"
    }
   ],
   "source": [
    "data"
   ]
  },
  {
   "cell_type": "code",
   "execution_count": 70,
   "metadata": {},
   "outputs": [],
   "source": [
    "raw_X = data.iloc[:,:-1]"
   ]
  },
  {
   "cell_type": "code",
   "execution_count": 71,
   "metadata": {},
   "outputs": [
    {
     "data": {
      "text/html": [
       "<div>\n",
       "<style scoped>\n",
       "    .dataframe tbody tr th:only-of-type {\n",
       "        vertical-align: middle;\n",
       "    }\n",
       "\n",
       "    .dataframe tbody tr th {\n",
       "        vertical-align: top;\n",
       "    }\n",
       "\n",
       "    .dataframe thead th {\n",
       "        text-align: right;\n",
       "    }\n",
       "</style>\n",
       "<table border=\"1\" class=\"dataframe\">\n",
       "  <thead>\n",
       "    <tr style=\"text-align: right;\">\n",
       "      <th></th>\n",
       "      <th>AGE</th>\n",
       "      <th>B</th>\n",
       "      <th>RM</th>\n",
       "      <th>CRIM</th>\n",
       "      <th>DIS</th>\n",
       "      <th>INDUS</th>\n",
       "      <th>LSTAT</th>\n",
       "      <th>NOX</th>\n",
       "      <th>PTRATIO</th>\n",
       "      <th>RAD</th>\n",
       "      <th>ZN</th>\n",
       "      <th>TAX</th>\n",
       "      <th>CHAS</th>\n",
       "    </tr>\n",
       "  </thead>\n",
       "  <tbody>\n",
       "    <tr>\n",
       "      <th>0</th>\n",
       "      <td>65.2</td>\n",
       "      <td>396.90</td>\n",
       "      <td>6.575</td>\n",
       "      <td>0.00632</td>\n",
       "      <td>4.0900</td>\n",
       "      <td>2.31</td>\n",
       "      <td>4.98</td>\n",
       "      <td>0.538</td>\n",
       "      <td>15.3</td>\n",
       "      <td>1</td>\n",
       "      <td>18.0</td>\n",
       "      <td>296</td>\n",
       "      <td>0</td>\n",
       "    </tr>\n",
       "    <tr>\n",
       "      <th>1</th>\n",
       "      <td>78.9</td>\n",
       "      <td>396.90</td>\n",
       "      <td>6.421</td>\n",
       "      <td>0.02731</td>\n",
       "      <td>4.9671</td>\n",
       "      <td>7.07</td>\n",
       "      <td>9.14</td>\n",
       "      <td>0.469</td>\n",
       "      <td>17.8</td>\n",
       "      <td>2</td>\n",
       "      <td>0.0</td>\n",
       "      <td>242</td>\n",
       "      <td>0</td>\n",
       "    </tr>\n",
       "    <tr>\n",
       "      <th>2</th>\n",
       "      <td>61.1</td>\n",
       "      <td>392.83</td>\n",
       "      <td>7.185</td>\n",
       "      <td>0.02729</td>\n",
       "      <td>4.9671</td>\n",
       "      <td>7.07</td>\n",
       "      <td>4.03</td>\n",
       "      <td>0.469</td>\n",
       "      <td>17.8</td>\n",
       "      <td>2</td>\n",
       "      <td>0.0</td>\n",
       "      <td>242</td>\n",
       "      <td>0</td>\n",
       "    </tr>\n",
       "    <tr>\n",
       "      <th>3</th>\n",
       "      <td>45.8</td>\n",
       "      <td>394.63</td>\n",
       "      <td>6.998</td>\n",
       "      <td>0.03237</td>\n",
       "      <td>6.0622</td>\n",
       "      <td>2.18</td>\n",
       "      <td>2.94</td>\n",
       "      <td>0.458</td>\n",
       "      <td>18.7</td>\n",
       "      <td>3</td>\n",
       "      <td>0.0</td>\n",
       "      <td>222</td>\n",
       "      <td>0</td>\n",
       "    </tr>\n",
       "    <tr>\n",
       "      <th>4</th>\n",
       "      <td>54.2</td>\n",
       "      <td>396.90</td>\n",
       "      <td>7.147</td>\n",
       "      <td>0.06905</td>\n",
       "      <td>6.0622</td>\n",
       "      <td>2.18</td>\n",
       "      <td>5.33</td>\n",
       "      <td>0.458</td>\n",
       "      <td>18.7</td>\n",
       "      <td>3</td>\n",
       "      <td>0.0</td>\n",
       "      <td>222</td>\n",
       "      <td>0</td>\n",
       "    </tr>\n",
       "    <tr>\n",
       "      <th>...</th>\n",
       "      <td>...</td>\n",
       "      <td>...</td>\n",
       "      <td>...</td>\n",
       "      <td>...</td>\n",
       "      <td>...</td>\n",
       "      <td>...</td>\n",
       "      <td>...</td>\n",
       "      <td>...</td>\n",
       "      <td>...</td>\n",
       "      <td>...</td>\n",
       "      <td>...</td>\n",
       "      <td>...</td>\n",
       "      <td>...</td>\n",
       "    </tr>\n",
       "    <tr>\n",
       "      <th>501</th>\n",
       "      <td>69.1</td>\n",
       "      <td>391.99</td>\n",
       "      <td>6.593</td>\n",
       "      <td>0.06263</td>\n",
       "      <td>2.4786</td>\n",
       "      <td>11.93</td>\n",
       "      <td>9.67</td>\n",
       "      <td>0.573</td>\n",
       "      <td>21.0</td>\n",
       "      <td>1</td>\n",
       "      <td>0.0</td>\n",
       "      <td>273</td>\n",
       "      <td>0</td>\n",
       "    </tr>\n",
       "    <tr>\n",
       "      <th>502</th>\n",
       "      <td>76.7</td>\n",
       "      <td>396.90</td>\n",
       "      <td>6.120</td>\n",
       "      <td>0.04527</td>\n",
       "      <td>2.2875</td>\n",
       "      <td>11.93</td>\n",
       "      <td>9.08</td>\n",
       "      <td>0.573</td>\n",
       "      <td>21.0</td>\n",
       "      <td>1</td>\n",
       "      <td>0.0</td>\n",
       "      <td>273</td>\n",
       "      <td>0</td>\n",
       "    </tr>\n",
       "    <tr>\n",
       "      <th>503</th>\n",
       "      <td>91.0</td>\n",
       "      <td>396.90</td>\n",
       "      <td>6.976</td>\n",
       "      <td>0.06076</td>\n",
       "      <td>2.1675</td>\n",
       "      <td>11.93</td>\n",
       "      <td>5.64</td>\n",
       "      <td>0.573</td>\n",
       "      <td>21.0</td>\n",
       "      <td>1</td>\n",
       "      <td>0.0</td>\n",
       "      <td>273</td>\n",
       "      <td>0</td>\n",
       "    </tr>\n",
       "    <tr>\n",
       "      <th>504</th>\n",
       "      <td>89.3</td>\n",
       "      <td>393.45</td>\n",
       "      <td>6.794</td>\n",
       "      <td>0.10959</td>\n",
       "      <td>2.3889</td>\n",
       "      <td>11.93</td>\n",
       "      <td>6.48</td>\n",
       "      <td>0.573</td>\n",
       "      <td>21.0</td>\n",
       "      <td>1</td>\n",
       "      <td>0.0</td>\n",
       "      <td>273</td>\n",
       "      <td>0</td>\n",
       "    </tr>\n",
       "    <tr>\n",
       "      <th>505</th>\n",
       "      <td>80.8</td>\n",
       "      <td>396.90</td>\n",
       "      <td>6.030</td>\n",
       "      <td>0.04741</td>\n",
       "      <td>2.5050</td>\n",
       "      <td>11.93</td>\n",
       "      <td>7.88</td>\n",
       "      <td>0.573</td>\n",
       "      <td>21.0</td>\n",
       "      <td>1</td>\n",
       "      <td>0.0</td>\n",
       "      <td>273</td>\n",
       "      <td>0</td>\n",
       "    </tr>\n",
       "  </tbody>\n",
       "</table>\n",
       "<p>506 rows × 13 columns</p>\n",
       "</div>"
      ],
      "text/plain": [
       "      AGE       B     RM     CRIM     DIS  INDUS  LSTAT    NOX  PTRATIO  RAD  \\\n",
       "0    65.2  396.90  6.575  0.00632  4.0900   2.31   4.98  0.538     15.3    1   \n",
       "1    78.9  396.90  6.421  0.02731  4.9671   7.07   9.14  0.469     17.8    2   \n",
       "2    61.1  392.83  7.185  0.02729  4.9671   7.07   4.03  0.469     17.8    2   \n",
       "3    45.8  394.63  6.998  0.03237  6.0622   2.18   2.94  0.458     18.7    3   \n",
       "4    54.2  396.90  7.147  0.06905  6.0622   2.18   5.33  0.458     18.7    3   \n",
       "..    ...     ...    ...      ...     ...    ...    ...    ...      ...  ...   \n",
       "501  69.1  391.99  6.593  0.06263  2.4786  11.93   9.67  0.573     21.0    1   \n",
       "502  76.7  396.90  6.120  0.04527  2.2875  11.93   9.08  0.573     21.0    1   \n",
       "503  91.0  396.90  6.976  0.06076  2.1675  11.93   5.64  0.573     21.0    1   \n",
       "504  89.3  393.45  6.794  0.10959  2.3889  11.93   6.48  0.573     21.0    1   \n",
       "505  80.8  396.90  6.030  0.04741  2.5050  11.93   7.88  0.573     21.0    1   \n",
       "\n",
       "       ZN  TAX  CHAS  \n",
       "0    18.0  296     0  \n",
       "1     0.0  242     0  \n",
       "2     0.0  242     0  \n",
       "3     0.0  222     0  \n",
       "4     0.0  222     0  \n",
       "..    ...  ...   ...  \n",
       "501   0.0  273     0  \n",
       "502   0.0  273     0  \n",
       "503   0.0  273     0  \n",
       "504   0.0  273     0  \n",
       "505   0.0  273     0  \n",
       "\n",
       "[506 rows x 13 columns]"
      ]
     },
     "execution_count": 71,
     "metadata": {},
     "output_type": "execute_result"
    }
   ],
   "source": [
    "raw_X"
   ]
  },
  {
   "cell_type": "code",
   "execution_count": 72,
   "metadata": {},
   "outputs": [],
   "source": [
    "raw_y = data2['Target']"
   ]
  },
  {
   "cell_type": "code",
   "execution_count": 74,
   "metadata": {},
   "outputs": [],
   "source": [
    "X_train, X_test, y_train, y_test = train_test_split(data2,raw_y, shuffle=True)"
   ]
  },
  {
   "cell_type": "code",
   "execution_count": 75,
   "metadata": {},
   "outputs": [],
   "source": [
    "from sklearn.tree import DecisionTreeRegressor\n",
    "from sklearn.model_selection import ParameterGrid\n",
    "from sklearn.model_selection import train_test_split\n",
    "\n",
    "\n",
    "# 원하는 파라미터 설정 \n",
    "params={\n",
    "    \"max_depth\": [None, 1, 5, 10, 50],\n",
    "    \"min_samples_leaf\" : [0.1, 0.3, 0.5, 0.7, 0.9],\n",
    "    \"min_samples_split\" : [0.2, 0.4, 0.6, 0.8, 1.0],\n",
    "    \"max_leaf_nodes\":  [None, 2, 5, 10, 50]\n",
    "}\n",
    "params_list = list(ParameterGrid(params)) "
   ]
  },
  {
   "cell_type": "code",
   "execution_count": 77,
   "metadata": {},
   "outputs": [
    {
     "name": "stdout",
     "output_type": "stream",
     "text": [
      "BEST SCORE 0.6442554814769362\n",
      "BEST PARAMS {'max_depth': 6, 'max_leaf_nodes': 15, 'min_samples_leaf': 6, 'min_samples_split': 2}\n"
     ]
    }
   ],
   "source": [
    "# Grid search 진행\n",
    "score_list = []\n",
    "for params2 in params_list:\n",
    "    model_use = DecisionTreeRegressor(random_state = 42,max_depth = params2[\"max_depth\"],min_samples_leaf = params2[\"min_samples_leaf\"],\n",
    "                                   min_samples_split = params2[\"min_samples_split\"],max_leaf_nodes = params2[\"max_leaf_nodes\"]\n",
    "                                  )      \n",
    "    model_use.fit(X_train, y_train)\n",
    "    valid_pred = model_use.predict(X_test)\n",
    "    tem = mean_squared_error(valid_pred,y_test) # 성능지표 = MSE 사용\n",
    "    score_list.append(tem)\n",
    "\n",
    "# BEST SCORE 계산\n",
    "best_index= np.argmin(score_list) # 가장 낮은 MSE 갖는 경우를 best case로 설정\n",
    "print(\"BEST SCORE\", score_list[best_index])\n",
    "print(\"BEST PARAMS\", params_list[best_index])"
   ]
  }
 ],
 "metadata": {
  "kernelspec": {
   "display_name": "Python 3 (ipykernel)",
   "language": "python",
   "name": "python3"
  },
  "language_info": {
   "codemirror_mode": {
    "name": "ipython",
    "version": 3
   },
   "file_extension": ".py",
   "mimetype": "text/x-python",
   "name": "python",
   "nbconvert_exporter": "python",
   "pygments_lexer": "ipython3",
   "version": "3.12.4"
  }
 },
 "nbformat": 4,
 "nbformat_minor": 4
}
